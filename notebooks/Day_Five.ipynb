{
  "nbformat": 4,
  "nbformat_minor": 0,
  "metadata": {
    "colab": {
      "name": "Day_Five.ipynb",
      "provenance": [],
      "collapsed_sections": [],
      "mount_file_id": "1NJYHoGShxQASQdW21GbQN10gcVrHkCsX",
      "authorship_tag": "ABX9TyM2fbkh1nCeH7SuYcHLrSb3",
      "include_colab_link": true
    },
    "kernelspec": {
      "name": "python3",
      "display_name": "Python 3"
    }
  },
  "cells": [
    {
      "cell_type": "markdown",
      "metadata": {
        "id": "view-in-github",
        "colab_type": "text"
      },
      "source": [
        "<a href=\"https://colab.research.google.com/github/noahbjohnson/advent-of-code-2020/blob/main/notebooks/Day_Five.ipynb\" target=\"_parent\"><img src=\"https://colab.research.google.com/assets/colab-badge.svg\" alt=\"Open In Colab\"/></a>"
      ]
    },
    {
      "cell_type": "code",
      "metadata": {
        "id": "znYxbYWL9QUv"
      },
      "source": [
        "input_filename = \"/content/drive/MyDrive/Colab Notebooks/Day_Five.txt\""
      ],
      "execution_count": 1,
      "outputs": []
    },
    {
      "cell_type": "code",
      "metadata": {
        "id": "oVR0RfXiTFUw"
      },
      "source": [
        "num_rows = 128\n",
        "upper_row = \"B\"\n",
        "lower_row = \"F\"\n",
        "\n",
        "num_columns = 8\n",
        "upper_column = \"R\"\n",
        "lower_column = \"L\"\n",
        "\n",
        "rows = list(range(num_rows))\n",
        "columns = list(range(num_columns))"
      ],
      "execution_count": 11,
      "outputs": []
    },
    {
      "cell_type": "code",
      "metadata": {
        "id": "4HHccR15TS2i"
      },
      "source": [
        "def seat_id(seat_string) -> int:\n",
        "  local_rows = rows.copy()\n",
        "  local_columns = columns.copy()\n",
        "\n",
        "  while len(local_rows) > 1:\n",
        "    key = seat_string[0]\n",
        "    seat_string = seat_string[1:]\n",
        "    \n",
        "    halfway = len(local_rows)//2\n",
        "\n",
        "    if key == upper_row:\n",
        "      local_rows = local_rows[halfway:]\n",
        "    elif key == lower_row:\n",
        "      local_rows = local_rows[:halfway]\n",
        "\n",
        "  while len(local_columns) > 1:\n",
        "    key = seat_string[0]\n",
        "    seat_string = seat_string[1:]\n",
        "    \n",
        "    halfway = len(local_columns)//2\n",
        "\n",
        "    if key == upper_column:\n",
        "      local_columns = local_columns[halfway:]\n",
        "    elif key == lower_column:\n",
        "      local_columns = local_columns[:halfway]\n",
        "\n",
        "  return (local_rows[0] * 8) + local_columns[0]"
      ],
      "execution_count": 32,
      "outputs": []
    },
    {
      "cell_type": "code",
      "metadata": {
        "id": "d9fDS0PxTU4I"
      },
      "source": [
        "numbers = []\n",
        "with open(input_filename, \"r\") as in_file:\n",
        "  lines = in_file.readlines()\n",
        "  numbers = [seat_id(x) for x in lines]"
      ],
      "execution_count": 38,
      "outputs": []
    },
    {
      "cell_type": "code",
      "metadata": {
        "colab": {
          "base_uri": "https://localhost:8080/"
        },
        "id": "_c70q1AQUkek",
        "outputId": "b73944fd-0119-4e26-aac9-7efeb13732df"
      },
      "source": [
        "  print(max(numbers))"
      ],
      "execution_count": 39,
      "outputs": [
        {
          "output_type": "stream",
          "text": [
            "901\n"
          ],
          "name": "stdout"
        }
      ]
    },
    {
      "cell_type": "code",
      "metadata": {
        "colab": {
          "base_uri": "https://localhost:8080/"
        },
        "id": "K8Y-EjkpWsn1",
        "outputId": "82a759c0-058f-46f9-a544-3d0e5d87ca86"
      },
      "source": [
        "numbers.sort()\n",
        "for i in range(len(numbers)):\n",
        "  if i > 0:\n",
        "    before = numbers[i - 1]\n",
        "    if numbers[i] - before > 1:\n",
        "      print(numbers[i]-1)"
      ],
      "execution_count": 43,
      "outputs": [
        {
          "output_type": "stream",
          "text": [
            "661\n"
          ],
          "name": "stdout"
        }
      ]
    }
  ]
}