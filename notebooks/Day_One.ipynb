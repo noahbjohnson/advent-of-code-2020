{
  "nbformat": 4,
  "nbformat_minor": 0,
  "metadata": {
    "colab": {
      "name": "Day One.ipynb",
      "provenance": [],
      "collapsed_sections": [],
      "mount_file_id": "1r7aW_XKj9Aoy_05j97fXEzBhemb0b7vU",
      "authorship_tag": "ABX9TyMJfZ0zquUosdXPhmbtEBh0",
      "include_colab_link": true
    },
    "kernelspec": {
      "name": "python3",
      "display_name": "Python 3"
    }
  },
  "cells": [
    {
      "cell_type": "markdown",
      "metadata": {
        "id": "view-in-github",
        "colab_type": "text"
      },
      "source": [
        "<a href=\"https://colab.research.google.com/github/noahbjohnson/advent-of-code-2020/blob/main/notebooks/Day_One.ipynb\" target=\"_parent\"><img src=\"https://colab.research.google.com/assets/colab-badge.svg\" alt=\"Open In Colab\"/></a>"
      ]
    },
    {
      "cell_type": "code",
      "metadata": {
        "id": "g0aRcChf0IRu"
      },
      "source": [
        "from IPython.display import Markdown\n",
        "from IPython.core.magic import register_cell_magic\n",
        "\n",
        "\n",
        "@register_cell_magic\n",
        "def markdown(line, cell):\n",
        "    return Markdown(cell.format(**globals()))"
      ],
      "execution_count": 19,
      "outputs": []
    },
    {
      "cell_type": "code",
      "metadata": {
        "id": "RW22QZGUr8-g"
      },
      "source": [
        "inputNumbers = [1891,1975,1987,1923,1928,1993,1946,1947,2005,1897,1971,1929,1875,1945,1680,811,1901,1396,1942,1282,1941,1978,1884,1879,1230,2010,1881,1979,1996,1904,1934,1865,2003,2006,1966,1860,1259,1959,1931,1963,1878,1880,151,1925,1663,1908,1863,1391,1922,1968,1998,1084,1982,1960,1938,1876,1937,1882,1873,1926,1986,1416,1864,1862,1969,1913,532,1866,1242,1933,1903,965,1927,1890,1991,1388,1992,1902,1907,1964,1394,2009,1920,630,1932,1854,1951,1852,1983,1314,1855,1954,1921,1989,1871,1995,1885,1974,1915,1872,1251,1899,1985,1889,1935,1912,946,1965,1739,1973,1911,1910,1917,1918,1900,1886,1477,2000,1916,1077,2004,1456,1867,1970,1999,1919,1726,706,1930,1994,1988,1997,1870,1953,652,1893,1898,1883,1957,1972,1874,1977,1955,2001,1906,1389,1848,1940,1877,1962,1948,1887,1924,1403,1408,1861,1892,1990,1222,677,1392,1113,1085,1894,1106,1939,1961,1944,1952,1643,1404,1895,1958,1976,1206,1905,1076,1888,1896,1943,1950,2008,1967,164,1981,1868,1914,1909,1956,341,1379,2007,1563,1980,1072,1949,1250,1258,1092,2002]"
      ],
      "execution_count": 20,
      "outputs": []
    },
    {
      "cell_type": "code",
      "metadata": {
        "id": "mkjVV_icv144"
      },
      "source": [
        "out = set(sum([[x*y for y in inputNumbers if x + y == 2020 and x != y] for x in inputNumbers], [])).pop()"
      ],
      "execution_count": 26,
      "outputs": []
    },
    {
      "cell_type": "code",
      "metadata": {
        "id": "ogHtAg_rx325"
      },
      "source": [
        "out2 = set(sum(sum([[[x*y*z for z in inputNumbers if x + y +z == 2020 and x != y != z] for y in inputNumbers] for x in inputNumbers], []),[])).pop()"
      ],
      "execution_count": 27,
      "outputs": []
    },
    {
      "cell_type": "code",
      "metadata": {
        "colab": {
          "base_uri": "https://localhost:8080/",
          "height": 210
        },
        "id": "F61Gb6950Lnl",
        "outputId": "c00f4635-6ed3-4e98-ff7a-5ea7fc047d0f"
      },
      "source": [
        "%%markdown\n",
        "\n",
        "# Day 1: Report Repair\n",
        "\n",
        "## Part One\n",
        "{out}\n",
        "\n",
        "## Part Two\n",
        "{out2}"
      ],
      "execution_count": 29,
      "outputs": [
        {
          "output_type": "execute_result",
          "data": {
            "text/markdown": "\n# Day 1: Report Repair\n\n## Part One\n927684\n\n## Part Two\n292093004\n",
            "text/plain": [
              "<IPython.core.display.Markdown object>"
            ]
          },
          "metadata": {
            "tags": []
          },
          "execution_count": 29
        }
      ]
    }
  ]
}